{
 "cells": [
  {
   "cell_type": "code",
   "execution_count": 5,
   "id": "13652406",
   "metadata": {},
   "outputs": [],
   "source": [
    "#oops "
   ]
  },
  {
   "cell_type": "code",
   "execution_count": 4,
   "id": "a01a8690",
   "metadata": {},
   "outputs": [],
   "source": [
    "a = 1"
   ]
  },
  {
   "cell_type": "code",
   "execution_count": 2,
   "id": "a22efd98",
   "metadata": {},
   "outputs": [
    {
     "name": "stdout",
     "output_type": "stream",
     "text": [
      "<class 'int'>\n"
     ]
    }
   ],
   "source": [
    "print(type(a))"
   ]
  },
  {
   "cell_type": "code",
   "execution_count": 3,
   "id": "7b1000e4",
   "metadata": {},
   "outputs": [
    {
     "name": "stdout",
     "output_type": "stream",
     "text": [
      "<class 'str'>\n"
     ]
    }
   ],
   "source": [
    "print(type(\"skliis\"))"
   ]
  },
  {
   "cell_type": "code",
   "execution_count": 6,
   "id": "7691c4e6",
   "metadata": {},
   "outputs": [],
   "source": [
    "class test :\n",
    "    pass"
   ]
  },
  {
   "cell_type": "code",
   "execution_count": 7,
   "id": "d5ed7bf8",
   "metadata": {},
   "outputs": [],
   "source": [
    "a = test()"
   ]
  },
  {
   "cell_type": "code",
   "execution_count": 8,
   "id": "c58d613a",
   "metadata": {},
   "outputs": [
    {
     "data": {
      "text/plain": [
       "__main__.test"
      ]
     },
     "execution_count": 8,
     "metadata": {},
     "output_type": "execute_result"
    }
   ],
   "source": [
    "type(a)"
   ]
  },
  {
   "cell_type": "code",
   "execution_count": 9,
   "id": "94bdf15d",
   "metadata": {},
   "outputs": [
    {
     "name": "stdout",
     "output_type": "stream",
     "text": [
      "<class '__main__.test'>\n"
     ]
    }
   ],
   "source": [
    "print(type(a))"
   ]
  },
  {
   "cell_type": "code",
   "execution_count": 13,
   "id": "72b32d65",
   "metadata": {},
   "outputs": [],
   "source": [
    "class skills :\n",
    "    def welcome_msg(self):\n",
    "        print(\"welcome to here\")"
   ]
  },
  {
   "cell_type": "code",
   "execution_count": 14,
   "id": "6ac702e2",
   "metadata": {},
   "outputs": [],
   "source": [
    "rohan = skills()"
   ]
  },
  {
   "cell_type": "code",
   "execution_count": 15,
   "id": "e8a277ef",
   "metadata": {},
   "outputs": [
    {
     "name": "stdout",
     "output_type": "stream",
     "text": [
      "<class '__main__.skills'>\n"
     ]
    }
   ],
   "source": [
    "print(type(rohan))"
   ]
  },
  {
   "cell_type": "code",
   "execution_count": 16,
   "id": "fd0e4ec1",
   "metadata": {},
   "outputs": [
    {
     "name": "stdout",
     "output_type": "stream",
     "text": [
      "welcome to here\n"
     ]
    }
   ],
   "source": [
    "rohan.welcome_msg()"
   ]
  },
  {
   "cell_type": "code",
   "execution_count": 17,
   "id": "dc708c3e",
   "metadata": {},
   "outputs": [],
   "source": [
    "gaurav = skills()"
   ]
  },
  {
   "cell_type": "code",
   "execution_count": 18,
   "id": "1a3b1423",
   "metadata": {},
   "outputs": [
    {
     "name": "stdout",
     "output_type": "stream",
     "text": [
      "welcome to here\n"
     ]
    }
   ],
   "source": [
    "gaurav.welcome_msg()"
   ]
  },
  {
   "cell_type": "code",
   "execution_count": 19,
   "id": "4bb2c669",
   "metadata": {},
   "outputs": [],
   "source": [
    "class skills1 :\n",
    "    \n",
    "    def __init__(self, phone_no, email_id,student_id):\n",
    "        self.phone_no = phone_no\n",
    "        self.email_id = email_id\n",
    "        self.student_id = student_id\n",
    "        \n",
    "    def return_student_detail(self):\n",
    "        return self.student_id, self.phone_no, self.email_id"
   ]
  },
  {
   "cell_type": "code",
   "execution_count": 26,
   "id": "c6f0e621",
   "metadata": {},
   "outputs": [],
   "source": [
    "rohan = skills1(545855257889,\"rohan@gmail.com\",184)"
   ]
  },
  {
   "cell_type": "code",
   "execution_count": 27,
   "id": "9238e0e6",
   "metadata": {},
   "outputs": [
    {
     "data": {
      "text/plain": [
       "(184, 545855257889, 'rohan@gmail.com')"
      ]
     },
     "execution_count": 27,
     "metadata": {},
     "output_type": "execute_result"
    }
   ],
   "source": [
    "rohan.return_student_detail()"
   ]
  },
  {
   "cell_type": "code",
   "execution_count": 37,
   "id": "b4a41ecc",
   "metadata": {},
   "outputs": [
    {
     "data": {
      "text/plain": [
       "545855257889"
      ]
     },
     "execution_count": 37,
     "metadata": {},
     "output_type": "execute_result"
    }
   ],
   "source": [
    "rohan.phone_no"
   ]
  },
  {
   "cell_type": "code",
   "execution_count": 29,
   "id": "3f839dcf",
   "metadata": {},
   "outputs": [],
   "source": [
    "gaurav = skills1(98751555655,\"gaurav@gmail.com\",10)"
   ]
  },
  {
   "cell_type": "code",
   "execution_count": 30,
   "id": "4ecf78ca",
   "metadata": {},
   "outputs": [
    {
     "data": {
      "text/plain": [
       "(10, 98751555655, 'gaurav@gmail.com')"
      ]
     },
     "execution_count": 30,
     "metadata": {},
     "output_type": "execute_result"
    }
   ],
   "source": [
    "gaurav.return_student_detail()"
   ]
  },
  {
   "cell_type": "code",
   "execution_count": 36,
   "id": "78e88377",
   "metadata": {},
   "outputs": [],
   "source": [
    "class skills2 :\n",
    "    \n",
    "    def __init__(self, phone_no, email_id,student_id):\n",
    "        self.phone_no1 = phone_no\n",
    "        self.email_id1 = email_id\n",
    "        self.student_id1 = student_id\n",
    "        \n",
    "    def return_student_detail(self):\n",
    "        return self.student_id1, self.phone_no1, self.email_id1"
   ]
  },
  {
   "cell_type": "code",
   "execution_count": 39,
   "id": "17c3b9ef",
   "metadata": {},
   "outputs": [],
   "source": [
    "krishna = skills2(9878646445415,\"krishna@gmail.com\",809)"
   ]
  },
  {
   "cell_type": "code",
   "execution_count": 40,
   "id": "479b1543",
   "metadata": {},
   "outputs": [
    {
     "data": {
      "text/plain": [
       "9878646445415"
      ]
     },
     "execution_count": 40,
     "metadata": {},
     "output_type": "execute_result"
    }
   ],
   "source": [
    "krishna.phone_no1"
   ]
  },
  {
   "cell_type": "code",
   "execution_count": 41,
   "id": "36f97a18",
   "metadata": {},
   "outputs": [
    {
     "data": {
      "text/plain": [
       "'krishna@gmail.com'"
      ]
     },
     "execution_count": 41,
     "metadata": {},
     "output_type": "execute_result"
    }
   ],
   "source": [
    "krishna.email_id1"
   ]
  },
  {
   "cell_type": "code",
   "execution_count": 42,
   "id": "882a47d1",
   "metadata": {},
   "outputs": [
    {
     "data": {
      "text/plain": [
       "(809, 9878646445415, 'krishna@gmail.com')"
      ]
     },
     "execution_count": 42,
     "metadata": {},
     "output_type": "execute_result"
    }
   ],
   "source": [
    "krishna.return_student_detail()"
   ]
  },
  {
   "cell_type": "code",
   "execution_count": 43,
   "id": "5c6afa84",
   "metadata": {},
   "outputs": [],
   "source": [
    "class skills2 :\n",
    "    \n",
    "    def __init__(krishna, phone_no, email_id,student_id):\n",
    "        krishna.phone_no1 = phone_no\n",
    "        krishna.email_id1 = email_id\n",
    "        krishna.student_id1 = student_id\n",
    "        \n",
    "    def return_student_detail(krishna):\n",
    "        return krishna.student_id1, krishna.phone_no1, krishna.email_id1"
   ]
  },
  {
   "cell_type": "code",
   "execution_count": 44,
   "id": "b13a01fc",
   "metadata": {},
   "outputs": [],
   "source": [
    "rohan = skills2(2849371499652, \"rohan1@gmail.com\",15)"
   ]
  },
  {
   "cell_type": "code",
   "execution_count": 45,
   "id": "4545130c",
   "metadata": {},
   "outputs": [
    {
     "data": {
      "text/plain": [
       "(15, 2849371499652, 'rohan1@gmail.com')"
      ]
     },
     "execution_count": 45,
     "metadata": {},
     "output_type": "execute_result"
    }
   ],
   "source": [
    "rohan.return_student_detail()"
   ]
  },
  {
   "cell_type": "code",
   "execution_count": 46,
   "id": "8c54ae1a",
   "metadata": {},
   "outputs": [
    {
     "data": {
      "text/plain": [
       "2849371499652"
      ]
     },
     "execution_count": 46,
     "metadata": {},
     "output_type": "execute_result"
    }
   ],
   "source": [
    "rohan.phone_no1"
   ]
  },
  {
   "cell_type": "code",
   "execution_count": null,
   "id": "7318ba15",
   "metadata": {},
   "outputs": [],
   "source": []
  }
 ],
 "metadata": {
  "kernelspec": {
   "display_name": "Python 3 (ipykernel)",
   "language": "python",
   "name": "python3"
  },
  "language_info": {
   "codemirror_mode": {
    "name": "ipython",
    "version": 3
   },
   "file_extension": ".py",
   "mimetype": "text/x-python",
   "name": "python",
   "nbconvert_exporter": "python",
   "pygments_lexer": "ipython3",
   "version": "3.10.8"
  }
 },
 "nbformat": 4,
 "nbformat_minor": 5
}
